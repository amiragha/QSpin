{
 "cells": [
  {
   "cell_type": "code",
   "execution_count": 1,
   "metadata": {},
   "outputs": [],
   "source": [
    "using Revise"
   ]
  },
  {
   "cell_type": "code",
   "execution_count": 2,
   "metadata": {},
   "outputs": [],
   "source": [
    "push!(LOAD_PATH, \"/home/amir/work/QSpin/src/\")\n",
    "\n",
    "using LinearAlgebra\n",
    "using SparseArrays\n",
    "using QSpin"
   ]
  },
  {
   "cell_type": "code",
   "execution_count": 3,
   "metadata": {},
   "outputs": [
    {
     "data": {
      "text/plain": [
       "SpinState{Float64}([2, 2, 2],   [4]  =  0.57735\n",
       "  [6]  =  0.57735\n",
       "  [7]  =  0.57735)"
      ]
     },
     "execution_count": 3,
     "metadata": {},
     "output_type": "execute_result"
    }
   ],
   "source": [
    "⊗ = kron\n",
    "\n",
    "zup = QSpin.SpinState([2], sparse([1., 0.]))\n",
    "zdn = QSpin.SpinState([2], sparse([0., 1.]))\n",
    "s0 = (zup ⊗ zdn - zdn ⊗ zup)\n",
    "\n",
    "wp = 1/sqrt(3) * (zdn ⊗ zup ⊗ zup + zup ⊗ zdn ⊗ zup + zup ⊗ zup ⊗ zdn)\n",
    "wm = 1/sqrt(3) * (zup ⊗ zdn ⊗ zdn + zdn ⊗ zup ⊗ zdn + zdn ⊗ zdn ⊗ zup)"
   ]
  },
  {
   "cell_type": "code",
   "execution_count": 4,
   "metadata": {},
   "outputs": [
    {
     "name": "stdout",
     "output_type": "stream",
     "text": [
      "↓⇔⇔⇔⇔↑:   0.24999999999999992\n",
      "↓⇔⇔⇔⇑↓:   -0.3535533905932737\n",
      "↓⇔⇔⇑⇓↑:   -0.4999999999999999\n",
      "↓⇔⇔⇑⇔↓:   0.3535533905932737\n",
      "↓⇔⇑⇓⇔↑:   -0.4999999999999999\n",
      "↓⇔⇑⇓⇑↓:   0.7071067811865475\n",
      "↓⇔⇑⇔⇓↑:   0.4999999999999999\n",
      "↓⇔⇑⇔⇔↓:   -0.3535533905932737\n",
      "↓⇑⇓⇔⇔↑:   -0.4999999999999999\n",
      "↓⇑⇓⇔⇑↓:   0.7071067811865475\n",
      "↓⇑⇓⇑⇓↑:   1.0\n",
      "↓⇑⇓⇑⇔↓:   -0.7071067811865475\n",
      "↓⇑⇔⇓⇔↑:   0.4999999999999999\n",
      "↓⇑⇔⇓⇑↓:   -0.7071067811865475\n",
      "↓⇑⇔⇔⇓↑:   -0.4999999999999999\n",
      "↓⇑⇔⇔⇔↓:   0.3535533905932737\n",
      "↑⇓⇔⇔⇔↑:   -0.3535533905932737\n",
      "↑⇓⇔⇔⇑↓:   0.4999999999999999\n",
      "↑⇓⇔⇑⇓↑:   0.7071067811865475\n",
      "↑⇓⇔⇑⇔↓:   -0.4999999999999999\n",
      "↑⇓⇑⇓⇔↑:   0.7071067811865475\n",
      "↑⇓⇑⇓⇑↓:   -1.0\n",
      "↑⇓⇑⇔⇓↑:   -0.7071067811865475\n",
      "↑⇓⇑⇔⇔↓:   0.4999999999999999\n",
      "↑⇔⇓⇔⇔↑:   0.3535533905932737\n",
      "↑⇔⇓⇔⇑↓:   -0.4999999999999999\n",
      "↑⇔⇓⇑⇓↑:   -0.7071067811865475\n",
      "↑⇔⇓⇑⇔↓:   0.4999999999999999\n",
      "↑⇔⇔⇓⇔↑:   -0.3535533905932737\n",
      "↑⇔⇔⇓⇑↓:   0.4999999999999999\n",
      "↑⇔⇔⇔⇓↑:   0.3535533905932737\n",
      "↑⇔⇔⇔⇔↓:   -0.24999999999999992\n",
      "\n"
     ]
    },
    {
     "data": {
      "text/plain": [
       "6-element Array{Float64,1}:\n",
       " 0.7071067811865477    \n",
       " 0.7071067811865474    \n",
       " 6.14216276975471e-17  \n",
       " 3.7438090068962396e-17\n",
       " 1.6201456940065642e-17\n",
       " 1.1346296772743332e-17"
      ]
     },
     "execution_count": 4,
     "metadata": {},
     "output_type": "execute_result"
    }
   ],
   "source": [
    "# AKLT construction\n",
    "s0 = (zup ⊗ zdn - zdn ⊗ zup)\n",
    "s = s0 ⊗ s0 ⊗ s0 ⊗ s0 ⊗ s0\n",
    "\n",
    "p1 = reshape([1,0,0] ⊗ [1,0,0,0] + 1/sqrt(2) * ( [0,1,0] ⊗ [0,1,1,0]) + [0,0,1] ⊗ [0,0,0,1],4,3)'\n",
    "p = I(2) ⊗ p1 ⊗ p1 ⊗ p1 ⊗ p1 ⊗ I(2)\n",
    "s2 = QSpin.SpinState([2,3,3,3,3,2], sparse(p * s.vals))\n",
    "#s2.vals\n",
    "QSpin.sshow(s2)\n",
    "svd(Matrix(reshape(normalize(s2.vals),18,18))).S[1:6]\n",
    "#QSpin.sshow(s)\n",
    "#tenp = QSpin.tensorprod\n",
    "#tenp(zup, zdn) + tenp(zdn, zup)"
   ]
  },
  {
   "cell_type": "code",
   "execution_count": 5,
   "metadata": {},
   "outputs": [
    {
     "name": "stdout",
     "output_type": "stream",
     "text": [
      "⇓⇔⇑:   -0.7071067811865475\n",
      "⇓⇑⇔:   0.7071067811865475\n",
      "⇔⇓⇑:   0.7071067811865475\n",
      "⇔⇑⇓:   -0.7071067811865475\n",
      "⇑⇓⇔:   -0.7071067811865475\n",
      "⇑⇔⇓:   0.7071067811865475\n",
      "\n"
     ]
    },
    {
     "data": {
      "text/plain": [
       "3-element Array{Float64,1}:\n",
       " 0.5773502691896258\n",
       " 0.5773502691896257\n",
       " 0.5773502691896257"
      ]
     },
     "execution_count": 5,
     "metadata": {},
     "output_type": "execute_result"
    }
   ],
   "source": [
    "s = s0 ⊗ s0 ⊗ s0 \n",
    "sss = QSpin.permutespins(s, [2,3,4,5,6,1])\n",
    "p1 = reshape([1,0,0] ⊗ [1,0,0,0] + 1/sqrt(2) * ( [0,1,0] ⊗ [0,1,1,0]) + [0,0,1] ⊗ [0,0,0,1],4,3)'\n",
    "p = (p1 ⊗ p1 ⊗ p1)\n",
    "s2 = QSpin.SpinState([3,3,3], sparse(p * sss.vals))\n",
    "QSpin.sshow(s2)\n",
    "svd(Matrix(reshape(normalize(s2.vals),3,9))).S\n",
    "#sss.vals\n",
    "#s.vals\n",
    "#s2.vals"
   ]
  },
  {
   "cell_type": "code",
   "execution_count": 6,
   "metadata": {},
   "outputs": [
    {
     "data": {
      "text/plain": [
       "14"
      ]
     },
     "execution_count": 6,
     "metadata": {},
     "output_type": "execute_result"
    }
   ],
   "source": [
    "QSpin.conf2index(s2, [1,1,1])"
   ]
  },
  {
   "cell_type": "code",
   "execution_count": 7,
   "metadata": {},
   "outputs": [],
   "source": [
    "s = s0 ⊗ s0 ⊗ s0 ⊗ s0 ⊗ s0 ⊗ s0 ⊗ s0\n",
    "sss = QSpin.permutespins(s, [2,3,4,5,6,7,8,9,10,11,12,13,14,1])\n",
    "p1 = reshape([1,0,0] ⊗ [1,0,0,0] + 1/sqrt(2) * ( [0,1,0] ⊗ [0,1,1,0]) + [0,0,1] ⊗ [0,0,0,1],4,3)'\n",
    "p = (p1 ⊗ p1 ⊗ p1 ⊗ p1 ⊗ p1 ⊗ p1 ⊗ p1)\n",
    "s2 = QSpin.SpinState([3,3,3,3,3,3,3], sparse(p * sss.vals));\n",
    "#QSpin.sshow(s2)"
   ]
  },
  {
   "cell_type": "code",
   "execution_count": 8,
   "metadata": {},
   "outputs": [
    {
     "data": {
      "text/plain": [
       "6-element Array{Float64,1}:\n",
       " 0.5551856605011776    \n",
       " 0.5039526306789696    \n",
       " 0.5039526306789696    \n",
       " 0.4082482904638629    \n",
       " 0.13101796735828425   \n",
       " 1.0342839418821266e-16"
      ]
     },
     "execution_count": 8,
     "metadata": {},
     "output_type": "execute_result"
    }
   ],
   "source": [
    "uniform = sparsevec(s2.vals.nzind, ones(length(s2.vals.nzind)), 27*81)\n",
    "A = Matrix(reshape(normalize(uniform),27,81))\n",
    "#A = Matrix(reshape(normalize(s2.vals),27,81))\n",
    "svd(A).S[1:6]"
   ]
  },
  {
   "cell_type": "code",
   "execution_count": 9,
   "metadata": {},
   "outputs": [
    {
     "data": {
      "text/plain": [
       "SpinState{Float64}([2, 3, 4, 4, 4, 4, 3, 2],   [2152]  =  0.00205761\n",
       "  [2153]  =  0.0029099\n",
       "  [2157]  =  0.00356389\n",
       "  [2170]  =  0.00411523\n",
       "  [2171]  =  0.00581981\n",
       "  [2174]  =  0.0029099\n",
       "  [2175]  =  0.00617284\n",
       "  [2179]  =  0.0050401\n",
       "  [2188]  =  0.00617284\n",
       "  [2189]  =  0.00872971\n",
       "          ⋮\n",
       "  [8216]  =  0.00823045\n",
       "  [8217]  =  0.0116396\n",
       "  [8221]  =  0.00823045\n",
       "  [8266]  =  0.0050401\n",
       "  [8267]  =  0.00712778\n",
       "  [8271]  =  0.0050401\n",
       "  [8284]  =  0.0050401\n",
       "  [8285]  =  0.00712778\n",
       "  [8288]  =  0.00411523\n",
       "  [8289]  =  0.00581981\n",
       "  [8293]  =  0.00411523)"
      ]
     },
     "execution_count": 9,
     "metadata": {},
     "output_type": "execute_result"
    }
   ],
   "source": [
    "state = wm ⊗ wp ⊗ wm ⊗ wp ⊗ wm ⊗ wp\n",
    "#QSpin.sshow(state)\n",
    "#Making the projection operators\n",
    "p1  = sparse(reshape([1,0,0,0] ⊗ [1,0,0] +  1/sqrt(2) * ([0,1,1,0] ⊗ [0,1,0]) +  [0,0,0,1] ⊗ [0,0,1], 3,4))\n",
    "#display(p1)\n",
    "p32 = sparse(reshape(\n",
    "    [1,0,0,0,0,0,0,0] ⊗ [1,0,0,0] + \n",
    "    1/sqrt(3) * [0,1,1,0,1,0,0,0] ⊗ [0,1,0,0] +\n",
    "    1/sqrt(3) * [0,0,0,1,0,1,1,0] ⊗ [0,0,1,0] +\n",
    "    [0,0,0,0,0,0,0,1] ⊗ [0,0,0,1],\n",
    "    4,8\n",
    "))\n",
    "#display(p32)\n",
    "p = I(2) ⊗ p1 ⊗ p32 ⊗ p32 ⊗ p32 ⊗ p32 ⊗ p1 ⊗ I(2)\n",
    "perm12 = [1,2,4,3,5,7,6,8,10,9,11,12]\n",
    "perm18 = [1,2,4,3,5,7,6,8,10,9,11,13,12,14,16,15,17,18]\n",
    "state_perm = QSpin.permutespins(state, perm18)\n",
    "awesome = QSpin.SpinState([2,3,4,4,4,4,3,2], sparse(p * state_perm.vals))\n",
    "\n",
    "#QSpin.sshow(awesome)"
   ]
  },
  {
   "cell_type": "code",
   "execution_count": 10,
   "metadata": {},
   "outputs": [
    {
     "data": {
      "text/plain": [
       "6-element Array{Float64,1}:\n",
       " 0.7761619052021769   \n",
       " 0.5655206394453202   \n",
       " 0.26172901454492015  \n",
       " 0.0962134409509804   \n",
       " 8.661773670385177e-17\n",
       " 7.509823837439474e-17"
      ]
     },
     "execution_count": 10,
     "metadata": {},
     "output_type": "execute_result"
    }
   ],
   "source": [
    "svd(Matrix(reshape(normalize(awesome.vals),2*3*4*4,2*3*4*4))).S[1:6]"
   ]
  }
 ],
 "metadata": {
  "kernelspec": {
   "display_name": "Julia 1.3.1",
   "language": "julia",
   "name": "julia-1.3"
  },
  "language_info": {
   "file_extension": ".jl",
   "mimetype": "application/julia",
   "name": "julia",
   "version": "1.3.1"
  }
 },
 "nbformat": 4,
 "nbformat_minor": 4
}
